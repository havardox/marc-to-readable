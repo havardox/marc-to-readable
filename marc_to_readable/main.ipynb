{
 "cells": [
  {
   "cell_type": "code",
   "execution_count": 1,
   "metadata": {},
   "outputs": [],
   "source": [
    "import pandas as pd\n",
    "\n",
    "from marc_to_readable.converters import marcxml_to_readable\n",
    "from marc_to_readable.utils import download_file, extract_archive"
   ]
  },
  {
   "cell_type": "code",
   "execution_count": 2,
   "metadata": {},
   "outputs": [],
   "source": [
    "download_file(url=\"https://data.digar.ee/erb/ERB_eestikeelne_raamat.zip\", filename=\"ERB_eestikeelne_raamat.zip\", folder=\"data\")\n",
    "src = extract_archive(archive_path=\"data/ERB_eestikeelne_raamat.zip\", extract_to=\"data\")"
   ]
  },
  {
   "cell_type": "code",
   "execution_count": 3,
   "metadata": {},
   "outputs": [
    {
     "name": "stdout",
     "output_type": "stream",
     "text": [
      "The subtitle is I astme kooli IV õppeaasta\n"
     ]
    }
   ],
   "source": [
    "readable_records = marcxml_to_readable(\"data/ERB_eestikeelne_raamat.xml\", skip_digital=True )\n",
    "df = pd.DataFrame([x.__dict__ for x in readable_records])"
   ]
  },
  {
   "cell_type": "code",
   "execution_count": 14,
   "metadata": {},
   "outputs": [
    {
     "data": {
      "text/plain": [
       "'Elektrivoolu  magnetiline mõju'"
      ]
     },
     "execution_count": 14,
     "metadata": {},
     "output_type": "execute_result"
    }
   ],
   "source": [
    "df[df['title'].str.contains('  ')].iloc[1, df.columns.get_loc(\"title\")]\n"
   ]
  }
 ],
 "metadata": {
  "kernelspec": {
   "display_name": "marc-to-readable-9JJQ6ZtZ-py3.10",
   "language": "python",
   "name": "python3"
  },
  "language_info": {
   "codemirror_mode": {
    "name": "ipython",
    "version": 3
   },
   "file_extension": ".py",
   "mimetype": "text/x-python",
   "name": "python",
   "nbconvert_exporter": "python",
   "pygments_lexer": "ipython3",
   "version": "3.10.12"
  }
 },
 "nbformat": 4,
 "nbformat_minor": 2
}
